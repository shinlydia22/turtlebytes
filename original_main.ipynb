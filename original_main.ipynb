{
 "cells": [
  {
   "cell_type": "code",
   "execution_count": 22,
   "metadata": {},
   "outputs": [],
   "source": [
    "import os\n",
    "import easyocr\n",
    "import cv2\n",
    "from matplotlib import pyplot as plt\n",
    "import numpy as np\n",
    "import re\n",
    "\n",
    "reader = easyocr.Reader(['en'])"
   ]
  },
  {
   "cell_type": "code",
   "execution_count": null,
   "metadata": {},
   "outputs": [],
   "source": []
  },
  {
   "cell_type": "code",
   "execution_count": 24,
   "metadata": {},
   "outputs": [
    {
     "data": {
      "text/plain": [
       "['Ingredients: Enriched Corn Meal (Corn Meal, Ferrous Sulfate_ Niacin,  Thiamin Mononitrate Riboflavin; Folic Acid) , Vegetable Oil (Corn, Canola; and/or Sunflower Oil) , Cheese Seasoning (Whey, Cheddar Cheese [Milk, Cheese Cultures, Salt; Enzymes] Canola Oil, Maltodextrin [Made from Corn], Natural and Artificial Flavors, Salt; Whey Protein  Concentrate , Monosodium Glutamate 1 Lactic Acid, Citric Acid, Artificial Color [Yellow 6]) , and Salt ']"
      ]
     },
     "execution_count": 24,
     "metadata": {},
     "output_type": "execute_result"
    }
   ],
   "source": [
    "result = reader.readtext('./ingredients.jpg', paragraph=\"True\", detail = 0)\n",
    "result"
   ]
  },
  {
   "cell_type": "code",
   "execution_count": 25,
   "metadata": {},
   "outputs": [
    {
     "data": {
      "text/plain": [
       "'Ingredients: Enriched Corn Meal (Corn Meal, Ferrous Sulfate_ Niacin,  Thiamin Mononitrate Riboflavin; Folic Acid) , Vegetable Oil (Corn, Canola; and/or Sunflower Oil) , Cheese Seasoning (Whey, Cheddar Cheese [Milk, Cheese Cultures, Salt; Enzymes] Canola Oil, Maltodextrin [Made from Corn], Natural and Artificial Flavors, Salt; Whey Protein  Concentrate , Monosodium Glutamate 1 Lactic Acid, Citric Acid, Artificial Color [Yellow 6]) , and Salt '"
      ]
     },
     "execution_count": 25,
     "metadata": {},
     "output_type": "execute_result"
    }
   ],
   "source": [
    "ingredients = ' '.join(result)\n",
    "ingredients"
   ]
  },
  {
   "cell_type": "code",
   "execution_count": 47,
   "metadata": {},
   "outputs": [
    {
     "data": {
      "text/plain": [
       "['Ingredients: Enriched Corn Meal',\n",
       " 'Corn Meal',\n",
       " 'Ferrous Sulfate',\n",
       " 'Niacin',\n",
       " 'Thiamin Mononitrate Riboflavin',\n",
       " 'Folic Acid',\n",
       " 'Vegetable Oil',\n",
       " 'Corn',\n",
       " 'Canola',\n",
       " 'and/or Sunflower Oil',\n",
       " '',\n",
       " 'Cheese Seasoning',\n",
       " 'Whey',\n",
       " 'Cheddar Cheese',\n",
       " 'Milk',\n",
       " 'Cheese Cultures',\n",
       " 'Salt',\n",
       " 'Enzymes',\n",
       " 'Canola Oil',\n",
       " 'Maltodextrin',\n",
       " 'Made from Corn',\n",
       " '',\n",
       " 'Natural and Artificial Flavors',\n",
       " 'Salt',\n",
       " 'Whey Protein  Concentrate',\n",
       " 'Monosodium Glutamate 1 Lactic Acid',\n",
       " 'Citric Acid',\n",
       " 'Artificial Color',\n",
       " 'Yellow 6',\n",
       " '',\n",
       " '',\n",
       " 'Salt']"
      ]
     },
     "execution_count": 47,
     "metadata": {},
     "output_type": "execute_result"
    }
   ],
   "source": [
    "words = re.split(r'[,()\\[\\]_\\;\\\\]', ingredients)\n",
    "\n",
    "for i in range(len(words)):\n",
    "    words[i] = words[i].strip()\n",
    "    \n",
    "    \n",
    "words.remove(\"\")\n",
    "words[len(words)-1] = words[len(words)-1].replace(\"and \", \"\")\n",
    "\n",
    "words"
   ]
  },
  {
   "cell_type": "code",
   "execution_count": 28,
   "metadata": {},
   "outputs": [
    {
     "data": {
      "text/plain": [
       "['Yellow 6']"
      ]
     },
     "execution_count": 28,
     "metadata": {},
     "output_type": "execute_result"
    }
   ],
   "source": [
    "carcinogens = [\"butylated hydroxyanisole\", \"potassium bromate\", \"acrymalide\", \"sodium nitrate\", \"sodium nitrite\" \"propylene oxide\", \"yellow 6\", \"yellow #6\", \"red 6\", \"red #6\"]\n",
    "carcSimilar = []\n",
    "for i in range (len(words)):\n",
    "    for j in range (len(carcinogens)):\n",
    "        if carcinogens[j].lower() in words[i].lower():\n",
    "            carcSimilar.append(words[i])\n",
    "\n",
    "carcSimilar"
   ]
  },
  {
   "cell_type": "code",
   "execution_count": 29,
   "metadata": {},
   "outputs": [
    {
     "data": {
      "text/plain": [
       "[]"
      ]
     },
     "execution_count": 29,
     "metadata": {},
     "output_type": "execute_result"
    }
   ],
   "source": [
    "hiddenSugars = [\"aspartame\", \"sucralose\", \"acesulfame potassium\", \"saccharin\", \"neotame\", \"sorbitol\", \"xylitol\", \"erythritol\", \"maltitol\"]\n",
    "sugarsSimilar = []\n",
    "for i in range (len(words)):\n",
    "    for j in range (len(hiddenSugars)):\n",
    "        if hiddenSugars[j].lower() in words[i].lower():\n",
    "            sugarsSimilar.append(words[i])\n",
    "\n",
    "sugarsSimilar"
   ]
  }
 ],
 "metadata": {
  "kernelspec": {
   "display_name": "Python 3",
   "language": "python",
   "name": "python3"
  },
  "language_info": {
   "codemirror_mode": {
    "name": "ipython",
    "version": 3
   },
   "file_extension": ".py",
   "mimetype": "text/x-python",
   "name": "python",
   "nbconvert_exporter": "python",
   "pygments_lexer": "ipython3",
   "version": "3.11.4"
  }
 },
 "nbformat": 4,
 "nbformat_minor": 2
}
