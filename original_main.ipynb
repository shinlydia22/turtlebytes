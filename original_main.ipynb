{
 "cells": [
  {
   "cell_type": "code",
   "execution_count": 14,
   "metadata": {},
   "outputs": [],
   "source": [
    "import os\n",
    "import easyocr\n",
    "import cv2\n",
    "from matplotlib import pyplot as plt\n",
    "import numpy as np\n",
    "import re\n",
    "from spellchecker import SpellChecker\n",
    "\n",
    "reader = easyocr.Reader(['en'])"
   ]
  },
  {
   "cell_type": "code",
   "execution_count": null,
   "metadata": {},
   "outputs": [],
   "source": []
  },
  {
   "cell_type": "code",
   "execution_count": null,
   "metadata": {},
   "outputs": [],
   "source": []
  },
  {
   "cell_type": "code",
   "execution_count": null,
   "metadata": {},
   "outputs": [],
   "source": []
  },
  {
   "cell_type": "code",
   "execution_count": 4,
   "metadata": {},
   "outputs": [
    {
     "data": {
      "text/plain": [
       "['INGREDIENTS: Enriched unbleached flour (wheat   flour,  malted barlev flour; ascorbic acid [dough conditioner] \\' niacin, reduced iron, thiamin mononitrate , riboflavin,  folic , acid),   sugar, , degermed vellow cornmeal, salt, leavening (baking soda, sodium acid pyrophosphate]; soybean oil, [ honev \" \\'powder; natural flavor CONTAINS; Wheat  May = \\'contain milk; eggs, soy and tree nuts.']"
      ]
     },
     "execution_count": 4,
     "metadata": {},
     "output_type": "execute_result"
    }
   ],
   "source": [
    "result = reader.readtext('./test2.png', paragraph=\"True\", detail = 0)\n",
    "result"
   ]
  },
  {
   "cell_type": "code",
   "execution_count": 5,
   "metadata": {},
   "outputs": [
    {
     "data": {
      "text/plain": [
       "'INGREDIENTS: Enriched unbleached flour (wheat   flour,  malted barlev flour; ascorbic acid [dough conditioner] \\' niacin, reduced iron, thiamin mononitrate , riboflavin,  folic , acid),   sugar, , degermed vellow cornmeal, salt, leavening (baking soda, sodium acid pyrophosphate]; soybean oil, [ honev \" \\'powder; natural flavor CONTAINS; Wheat  May = \\'contain milk; eggs, soy and tree nuts.'"
      ]
     },
     "execution_count": 5,
     "metadata": {},
     "output_type": "execute_result"
    }
   ],
   "source": [
    "ingredients = ' '.join(result)\n",
    "ingredients"
   ]
  },
  {
   "cell_type": "code",
   "execution_count": 80,
   "metadata": {},
   "outputs": [
    {
     "data": {
      "text/plain": [
       "['Enriched unbleached flour',\n",
       " 'wheat flour',\n",
       " 'malted barley flour',\n",
       " 'ascorbic acid',\n",
       " 'dough conditioner',\n",
       " 'niacin',\n",
       " 'reduced iron',\n",
       " 'thiamine mononitrate',\n",
       " 'riboflavin',\n",
       " 'folic',\n",
       " 'acid',\n",
       " 'sugar',\n",
       " 'deserved fellow cornmeal',\n",
       " 'salt',\n",
       " 'leavening',\n",
       " 'baking soda',\n",
       " 'sodium acid pyrophosphate',\n",
       " 'soybean oil',\n",
       " 'honev',\n",
       " 'powder',\n",
       " 'natural flavor CONTAINS',\n",
       " 'Wheat May',\n",
       " 'contain milk',\n",
       " 'eggs',\n",
       " 'soy tree nuts']"
      ]
     },
     "execution_count": 80,
     "metadata": {},
     "output_type": "execute_result"
    }
   ],
   "source": [
    "words = re.split(r'[,\\'\\\"()\\[\\]\\=_\\;\\\\]', ingredients)\n",
    "\n",
    "misread = []\n",
    "spell = SpellChecker()\n",
    "\n",
    "for i in range(len(words)):\n",
    "    words[i] = words[i].strip()\n",
    "    words[i] = ' '.join(words[i].split())\n",
    "\n",
    "while (\"\" in words):\n",
    "    words.remove(\"\")\n",
    "\n",
    "for i in range(len(words)):\n",
    "    if \" \" in words[i]:\n",
    "        wordsSet = words[i].split()\n",
    "        for j in range(len(wordsSet)):\n",
    "            temp = wordsSet[j]\n",
    "            if temp != spell.correction(temp):\n",
    "                temp = spell.correction(temp)\n",
    "                if (temp is None):\n",
    "                    temp = wordsSet[j]\n",
    "            wordsSet[j] = temp\n",
    "        words[i] = \" \".join(wordsSet)\n",
    "\n",
    "\n",
    "words[len(words)-1] = words[len(words)-1].replace(\"and \", \"\")\n",
    "words[0] = words[0].replace(\"ingredients \", \"\")\n",
    "\n",
    "words"
   ]
  },
  {
   "cell_type": "code",
   "execution_count": 28,
   "metadata": {},
   "outputs": [
    {
     "data": {
      "text/plain": [
       "['Yellow 6']"
      ]
     },
     "execution_count": 28,
     "metadata": {},
     "output_type": "execute_result"
    }
   ],
   "source": [
    "carcinogens = [\"butylated hydroxyanisole\", \"potassium bromate\", \"acrymalide\", \"sodium nitrate\", \"sodium nitrite\" \"propylene oxide\", \"yellow 6\", \"yellow #6\", \"red 6\", \"red #6\"]\n",
    "carcSimilar = []\n",
    "for i in range (len(words)):\n",
    "    for j in range (len(carcinogens)):\n",
    "        if carcinogens[j].lower() in words[i].lower():\n",
    "            carcSimilar.append(words[i])\n",
    "\n",
    "carcSimilar"
   ]
  },
  {
   "cell_type": "code",
   "execution_count": 29,
   "metadata": {},
   "outputs": [
    {
     "data": {
      "text/plain": [
       "[]"
      ]
     },
     "execution_count": 29,
     "metadata": {},
     "output_type": "execute_result"
    }
   ],
   "source": [
    "hiddenSugars = [\"aspartame\", \"sucralose\", \"acesulfame potassium\", \"saccharin\", \"neotame\", \"sorbitol\", \"xylitol\", \"erythritol\", \"maltitol\"]\n",
    "sugarsSimilar = []\n",
    "for i in range (len(words)):\n",
    "    for j in range (len(hiddenSugars)):\n",
    "        if hiddenSugars[j].lower() in words[i].lower():\n",
    "            sugarsSimilar.append(words[i])\n",
    "\n",
    "sugarsSimilar"
   ]
  },
  {
   "cell_type": "code",
   "execution_count": 16,
   "metadata": {},
   "outputs": [
    {
     "name": "stdout",
     "output_type": "stream",
     "text": [
      "happening\n"
     ]
    }
   ],
   "source": [
    "#from spellchecker import SpellChecker\n",
    "\n",
    "spell = SpellChecker()\n",
    "\n",
    "# find those words that may be misspelled\n",
    "misspelled = spell.unknown(['something', 'is', 'hapenning', 'here'])\n",
    "\n",
    "for word in misspelled:\n",
    "    # Get the one `most likely` answer\n",
    "    print(spell.correction(word))\n",
    "\n",
    "    # Get a list of `likely` options\n",
    "    #print(spell.candidates(word))"
   ]
  }
 ],
 "metadata": {
  "kernelspec": {
   "display_name": "Python 3",
   "language": "python",
   "name": "python3"
  },
  "language_info": {
   "codemirror_mode": {
    "name": "ipython",
    "version": 3
   },
   "file_extension": ".py",
   "mimetype": "text/x-python",
   "name": "python",
   "nbconvert_exporter": "python",
   "pygments_lexer": "ipython3",
   "version": "3.11.4"
  }
 },
 "nbformat": 4,
 "nbformat_minor": 2
}
