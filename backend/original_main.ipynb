{
 "cells": [
  {
   "cell_type": "code",
<<<<<<< HEAD
   "execution_count": 59,
=======
   "execution_count": 1,
>>>>>>> backend
   "metadata": {},
   "outputs": [
    {
     "name": "stderr",
     "output_type": "stream",
     "text": [
      "/Users/lydiashin/Library/Python/3.9/lib/python/site-packages/urllib3/__init__.py:34: NotOpenSSLWarning: urllib3 v2.0 only supports OpenSSL 1.1.1+, currently the 'ssl' module is compiled with 'LibreSSL 2.8.3'. See: https://github.com/urllib3/urllib3/issues/3020\n",
      "  warnings.warn(\n"
     ]
    }
   ],
   "source": [
    "import os\n",
    "import easyocr\n",
    "import cv2\n",
    "from matplotlib import pyplot as plt\n",
    "import numpy as np\n",
    "import re\n",
    "from spellchecker import SpellChecker\n",
    "\n",
    "reader = easyocr.Reader(['en'])"
   ]
  },
  {
   "cell_type": "code",
   "execution_count": 60,
   "metadata": {},
   "outputs": [
    {
     "data": {
      "text/plain": [
       "['Splenda Nutrition Facts 200 servings per container Serving Size packet (1g) Amount per serving Calories o5 DV Total Fat Og 098 Sodlum Orrg 096 Total Carb_ 096 Tolal Sugars Incudac <lg Added Sugars Protein Og daniican acuit Dulnny nluraled E: bn; Folu-aiumt Kaeif cirium Irn nd RDV - #~Daly Vnlue',\n",
       " '3 9 2 6 0 U 5',\n",
       " 'UNGREDIENTS: DEXTROSE, Maltodextrin; SPLENDA \" Sucralose, PARVE (GLUTEN FREE HALAL SuitABLE For PEOPLE With DiABETES. STORE IN COOL, Dry PLACE,']"
      ]
     },
     "execution_count": 60,
     "metadata": {},
     "output_type": "execute_result"
    }
   ],
   "source": [
    "result = reader.readtext('./splenda.jpg', paragraph=\"True\", detail = 0)\n",
    "result"
   ]
  },
  {
   "cell_type": "code",
   "execution_count": 61,
   "metadata": {},
   "outputs": [
    {
     "data": {
      "text/plain": [
       "'Splenda Nutrition Facts 200 servings per container Serving Size packet (1g) Amount per serving Calories o5 DV Total Fat Og 098 Sodlum Orrg 096 Total Carb_ 096 Tolal Sugars Incudac <lg Added Sugars Protein Og daniican acuit Dulnny nluraled E: bn; Folu-aiumt Kaeif cirium Irn nd RDV - #~Daly Vnlue 3 9 2 6 0 U 5 UNGREDIENTS: DEXTROSE, Maltodextrin; SPLENDA \" Sucralose, PARVE (GLUTEN FREE HALAL SuitABLE For PEOPLE With DiABETES. STORE IN COOL, Dry PLACE,'"
      ]
     },
     "execution_count": 61,
     "metadata": {},
     "output_type": "execute_result"
    }
   ],
   "source": [
    "ingredients = ' '.join(result)\n",
    "ingredients"
   ]
  },
  {
   "cell_type": "code",
   "execution_count": 62,
   "metadata": {},
   "outputs": [
    {
     "data": {
      "text/plain": [
       "['spend Nutrition Facts 200 servings per container Serving Size packet',\n",
       " '1g',\n",
       " 'Amount per serving Calories of do Total Fat Og 098 sodium org 096 Total Carb',\n",
       " '096 total Sugars Incudac all Added Sugars Protein Og daniican acquit dunny nluraled E',\n",
       " 'bn',\n",
       " 'Folu-aiumt katie circus Irn and rev - daly value 3 9 2 6 0 U 5 ingredients',\n",
       " 'DEXTROSE',\n",
       " 'Maltodextrin',\n",
       " 'SPLENDA',\n",
       " 'Sucralose',\n",
       " 'PARVE',\n",
       " 'GLUTEN FREE HALAL SuitABLE For PEOPLE With DiABETES',\n",
       " 'STORE IN COOL',\n",
       " 'Dry PLACE']"
      ]
     },
     "execution_count": 62,
     "metadata": {},
     "output_type": "execute_result"
    }
   ],
   "source": [
    "words = re.split(r'[,\\'\\\":(){}.\\[\\]\\=_\\;\\\\]', ingredients)\n",
    "\n",
    "misread = []\n",
    "spell = SpellChecker()\n",
    "\n",
    "for i in range(len(words)):\n",
    "    words[i] = words[i].strip()\n",
    "    words[i] = ' '.join(words[i].split())\n",
    "\n",
    "while (\"\" in words):\n",
    "    words.remove(\"\")\n",
    "\n",
    "for i in range(len(words)):\n",
    "    if \" \" in words[i]:\n",
    "        wordsSet = words[i].split()\n",
    "        for j in range(len(wordsSet)):\n",
    "            temp = wordsSet[j]\n",
    "            if temp != spell.correction(temp):\n",
    "                temp = spell.correction(temp)\n",
    "                if (temp is None):\n",
    "                    temp = wordsSet[j]\n",
    "            wordsSet[j] = temp\n",
    "        words[i] = \" \".join(wordsSet)\n",
    "\n",
    "\n",
    "words[len(words)-1] = words[len(words)-1].replace(\"and \", \"\")\n",
    "words[0] = words[0].replace(\"ingredients\", \"\")\n",
    "words[0] = words[0].replace(\"Ingredients\", \"\")\n",
    "words[0] = words[0].replace(\"INGREDIENTS\", \"\")\n",
    "\n",
    "while (\"\" in words):\n",
    "    words.remove(\"\")\n",
    "\n",
    "words"
   ]
  },
  {
   "cell_type": "code",
   "execution_count": 63,
   "metadata": {},
   "outputs": [
    {
     "data": {
      "text/plain": [
       "[]"
      ]
     },
     "execution_count": 63,
     "metadata": {},
     "output_type": "execute_result"
    }
   ],
   "source": [
    "carcinogens = [\"butylated hydroxyanisole\", \"potassium bromate\", \"acrymalide\", \"sodium nitrate\", \"sodium nitrite\" \"propylene oxide\", \"yellow 6\", \"yellow #6\", \"red 6\", \"red #6\"]\n",
    "carcSimilar = []\n",
    "for i in range (len(words)):\n",
    "    for j in range (len(carcinogens)):\n",
    "        if carcinogens[j].lower() in words[i].lower():\n",
    "            carcSimilar.append(carcinogens[j])\n",
    "\n",
    "carcSimilar"
   ]
  },
  {
   "cell_type": "code",
   "execution_count": 65,
   "metadata": {},
   "outputs": [
    {
     "data": {
      "text/plain": [
       "['maltodextrin', 'sucralose']"
      ]
     },
     "execution_count": 65,
     "metadata": {},
     "output_type": "execute_result"
    }
   ],
   "source": [
    "hiddenSugars = [\"aspartame\", \"sucralose\", \"acesulfame potassium\", \"saccharin\", \"neotame\", \"sorbitol\", \"xylitol\", \"erythritol\", \"maltitol\", \"maltodextrin\"]\n",
    "sugarsSimilar = []\n",
    "for i in range (len(words)):\n",
    "    for j in range (len(hiddenSugars)):\n",
    "        if hiddenSugars[j].lower() in words[i].lower():\n",
    "            sugarsSimilar.append(hiddenSugars[j])\n",
    "\n",
    "sugarsSimilar"
   ]
  }
 ],
 "metadata": {
  "kernelspec": {
   "display_name": "Python 3",
   "language": "python",
   "name": "python3"
  },
  "language_info": {
   "codemirror_mode": {
    "name": "ipython",
    "version": 3
   },
   "file_extension": ".py",
   "mimetype": "text/x-python",
   "name": "python",
   "nbconvert_exporter": "python",
   "pygments_lexer": "ipython3",
   "version": "3.9.6"
  }
 },
 "nbformat": 4,
 "nbformat_minor": 2
}
