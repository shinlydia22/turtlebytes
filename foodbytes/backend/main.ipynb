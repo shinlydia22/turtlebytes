{
 "cells": [
  {
   "cell_type": "code",
   "execution_count": 4,
   "metadata": {},
   "outputs": [],
   "source": [
    "import os\n",
    "import easyocr\n",
    "import cv2\n",
    "from matplotlib import pyplot as plt\n",
    "import numpy as np\n",
    "import re\n",
    "from spellchecker import SpellChecker\n",
    "import argparse\n",
    "from PIL import Image\n",
    "\n",
    "\n",
    "reader = easyocr.Reader(['en'])"
   ]
  },
  {
   "cell_type": "code",
   "execution_count": null,
   "metadata": {},
   "outputs": [],
   "source": [
    "# Create an ArgumentParser object\n",
    "parser = argparse.ArgumentParser(description='Process an image.')\n",
    "\n",
    "# Define the command-line argument for the image file path\n",
    "parser.add_argument('--image_path', type=str, help='Path to the image file to process')\n",
    "\n",
    "# Parse the command-line arguments\n",
    "args = parser.parse_args()\n",
    "\n",
    "# Access the image file path\n",
    "image_path = args.image_path\n",
    "\n",
    "# Initialize img variable\n",
    "img = Image.open(image_path)\n"
   ]
  },
  {
   "cell_type": "code",
   "execution_count": 5,
   "metadata": {},
   "outputs": [
    {
     "data": {
      "text/plain": [
       "['Splenda Nutrition Facts 200 servings per container Serving Size packet (1g) Amount per serving Calories o5 DV Total Fat Og 098 Sodlum Orrg 096 Total Carb_ 096 Tolal Sugars Incudac <lg Added Sugars Protein Og daniican acuit Dulnny nluraled E: bn; Folu-aiumt Kaeif cirium Irn nd RDV - #~Daly Vnlue',\n",
       " '3 9 2 6 0 U 5',\n",
       " 'UNGREDIENTS: DEXTROSE, Maltodextrin; SPLENDA \" Sucralose, PARVE (GLUTEN FREE HALAL SuitABLE For PEOPLE With DiABETES. STORE IN COOL, Dry PLACE,']"
      ]
     },
     "execution_count": 5,
     "metadata": {},
     "output_type": "execute_result"
    }
   ],
   "source": [
    "result = reader.readtext(img, paragraph=True, detail = 0)\n",
    "result"
   ]
  },
  {
   "cell_type": "code",
   "execution_count": 6,
   "metadata": {},
   "outputs": [
    {
     "data": {
      "text/plain": [
       "'Splenda Nutrition Facts 200 servings per container Serving Size packet (1g) Amount per serving Calories o5 DV Total Fat Og 098 Sodlum Orrg 096 Total Carb_ 096 Tolal Sugars Incudac <lg Added Sugars Protein Og daniican acuit Dulnny nluraled E: bn; Folu-aiumt Kaeif cirium Irn nd RDV - #~Daly Vnlue 3 9 2 6 0 U 5 UNGREDIENTS: DEXTROSE, Maltodextrin; SPLENDA \" Sucralose, PARVE (GLUTEN FREE HALAL SuitABLE For PEOPLE With DiABETES. STORE IN COOL, Dry PLACE,'"
      ]
     },
     "execution_count": 6,
     "metadata": {},
     "output_type": "execute_result"
    }
   ],
   "source": [
    "ingredients = ' '.join(result)\n",
    "ingredients"
   ]
  },
  {
   "cell_type": "code",
   "execution_count": 7,
   "metadata": {},
   "outputs": [
    {
     "data": {
      "text/plain": [
       "['spend Nutrition Facts 200 servings per container Serving Size packet',\n",
       " '1g',\n",
       " 'Amount per serving Calories of do Total Fat Og 098 sodium org 096 Total Carb',\n",
       " '096 total Sugars Incudac all Added Sugars Protein Og daniican acquit dunny nluraled E',\n",
       " 'bn',\n",
       " 'Folu-aiumt katie circus Irn and rev - daly value 3 9 2 6 0 U 5 ingredients',\n",
       " 'DEXTROSE',\n",
       " 'Maltodextrin',\n",
       " 'SPLENDA',\n",
       " 'Sucralose',\n",
       " 'PARVE',\n",
       " 'GLUTEN FREE HALAL SuitABLE For PEOPLE With DiABETES',\n",
       " 'STORE IN COOL',\n",
       " 'Dry PLACE']"
      ]
     },
     "execution_count": 7,
     "metadata": {},
     "output_type": "execute_result"
    }
   ],
   "source": [
    "words = re.split(r'[,\\'\\\":(){}.\\[\\]\\=_\\;\\\\]', ingredients)\n",
    "\n",
    "misread = []\n",
    "spell = SpellChecker()\n",
    "\n",
    "for i in range(len(words)):\n",
    "    words[i] = words[i].strip()\n",
    "    words[i] = ' '.join(words[i].split())\n",
    "\n",
    "while (\"\" in words):\n",
    "    words.remove(\"\")\n",
    "\n",
    "for i in range(len(words)):\n",
    "    if \" \" in words[i]:\n",
    "        wordsSet = words[i].split()\n",
    "        for j in range(len(wordsSet)):\n",
    "            temp = wordsSet[j]\n",
    "            if temp != spell.correction(temp):\n",
    "                temp = spell.correction(temp)\n",
    "                if (temp is None):\n",
    "                    temp = wordsSet[j]\n",
    "            wordsSet[j] = temp\n",
    "        words[i] = \" \".join(wordsSet)\n",
    "\n",
    "\n",
    "words[len(words)-1] = words[len(words)-1].replace(\"and \", \"\")\n",
    "words[0] = words[0].replace(\"ingredients\", \"\")\n",
    "words[0] = words[0].replace(\"Ingredients\", \"\")\n",
    "words[0] = words[0].replace(\"INGREDIENTS\", \"\")\n",
    "\n",
    "while (\"\" in words):\n",
    "    words.remove(\"\")\n",
    "\n",
    "words"
   ]
  },
  {
   "cell_type": "code",
   "execution_count": 8,
   "metadata": {},
   "outputs": [
    {
     "data": {
      "text/plain": [
       "[]"
      ]
     },
     "execution_count": 8,
     "metadata": {},
     "output_type": "execute_result"
    }
   ],
   "source": [
    "carcinogens = [\"butylated hydroxyanisole\", \"potassium bromate\", \"acrymalide\", \"sodium nitrate\", \"sodium nitrite\", \"propylene oxide\", \"yellow 6\", \"yellow #6\", \"red 6\", \"red #6\"]\n",
    "carcSimilar = []\n",
    "for i in range (len(words)):\n",
    "    for j in range (len(carcinogens)):\n",
    "        if carcinogens[j].lower() in words[i].lower():\n",
    "            carcSimilar.append(carcinogens[j])\n",
    "carcSimilar"
   ]
  },
  {
   "cell_type": "code",
   "execution_count": 9,
   "metadata": {},
   "outputs": [
    {
     "data": {
      "text/plain": [
       "['maltodextrin', 'sucralose']"
      ]
     },
     "execution_count": 9,
     "metadata": {},
     "output_type": "execute_result"
    }
   ],
   "source": [
    "hiddenSugars = [\"aspartame\", \"sucralose\", \"acesulfame potassium\", \"saccharin\", \"neotame\", \"sorbitol\", \"xylitol\", \"erythritol\", \"maltitol\", \"maltodextrin\"]\n",
    "sugarsSimilar = []\n",
    "for i in range (len(words)):\n",
    "    for j in range (len(hiddenSugars)):\n",
    "        if hiddenSugars[j].lower() in words[i].lower():\n",
    "            sugarsSimilar.append(hiddenSugars[j])\n",
    "sugarsSimilar"
   ]
  }
 ],
 "metadata": {
  "kernelspec": {
   "display_name": "Python 3",
   "language": "python",
   "name": "python3"
  },
  "language_info": {
   "codemirror_mode": {
    "name": "ipython",
    "version": 3
   },
   "file_extension": ".py",
   "mimetype": "text/x-python",
   "name": "python",
   "nbconvert_exporter": "python",
   "pygments_lexer": "ipython3",
   "version": "3.11.4"
  },
  "orig_nbformat": 4
 },
 "nbformat": 4,
 "nbformat_minor": 2
}
